{
 "cells": [
  {
   "cell_type": "markdown",
   "id": "a9d840a2",
   "metadata": {},
   "source": [
    "<b>Q1. What is the meaning of multiple inheritance?</b>"
   ]
  },
  {
   "cell_type": "markdown",
   "id": "2fd33047",
   "metadata": {},
   "source": [
    "Multiple inheritance in Python refers to the ability of a class to inherit attributes and methods from more than one parent class. This means that a subclass can inherit from two or more superclasses.\n",
    "In multiple inheritance, a single subclass can inherit properties from multiple parent classes, allowing for the combination of different behaviors and functionalities.  \n",
    "This can be useful in situations where a class needs to inherit characteristics from multiple sources or exhibit multiple types of behavior.  \n",
    "However, multiple inheritance can also introduce complexity and ambiguity, especially when there are conflicts between methods or attributes inherited from different parent classes. For example, the \"diamond problem\" is a common issue in multiple inheritance where it becomes ambiguous as to which parent class a particular feature is inherited from if more than one parent class implements the same feature.   \n",
    "To address such issues, programming languages like Python provide mechanisms such as method resolution order (MRO) and super() to handle conflicts and ensure proper inheritance resolution.   \n",
    "These mechanisms help in resolving conflicts and determining the order in which methods are called.  \n",
    "It's important to note that while multiple inheritance is supported in Python, some other languages like Java do not support it directly. In Java, multiple inheritance of classes is not allowed, but multiple inheritance can be achieved through interfaces.\n",
    "In summary, multiple inheritance in Python allows a class to inherit attributes and methods from multiple parent classes. It provides flexibility in combining behaviors and functionalities, but it can also introduce complexity and conflicts that need to be managed carefully."
   ]
  },
  {
   "cell_type": "markdown",
   "id": "7d25a83a",
   "metadata": {},
   "source": [
    "<b>Q2. What is the concept of delegation?</b>"
   ]
  },
  {
   "cell_type": "markdown",
   "id": "f6d67d31",
   "metadata": {},
   "source": [
    "Delegation is an object-oriented programming technique that allows an object to delegate some of its responsibilities to another object. In delegation, an object passes on a method call to another object that performs the actual behavior of the method.      This allows for greater flexibility and modularity in object-oriented design, as objects can be composed of other objects to achieve complex behaviors and functionalities.      \n",
    "In Python, delegation can be achieved through the use of the \\__getattr__() method. This method is called when an attribute or method is not found in an object, allowing the object to delegate the method call to another object.  \n",
    "By implementing the \\__getattr__() method, you can define the behavior of an object when a method or attribute is not found, allowing for delegation to other objects.  \n",
    "Delegation is often used as an alternative to inheritance, as it allows for greater flexibility and modularity in object-oriented design.    \n",
    "By delegating responsibilities to other objects, you can achieve complex behaviors and functionalities without the need for complex inheritance hierarchies.    \n",
    "In summary, delegation is an object-oriented programming technique that allows an object to delegate some of its responsibilities to another object. In Python, delegation can be achieved through the use of the \\__getattr__() method, and it is often used as an alternative to inheritance for achieving complex behaviors and functionalities.  "
   ]
  },
  {
   "cell_type": "markdown",
   "id": "1dadc4cf",
   "metadata": {},
   "source": [
    "<b>Q3. What is the concept of composition?</b>"
   ]
  },
  {
   "cell_type": "markdown",
   "id": "dd6795f8",
   "metadata": {},
   "source": [
    "Composition is a concept in object-oriented programming (OOP) that allows you to create a new object by combining existing objects. In Python, composition is achieved by creating a class that has an instance of another class as a data member.  \n",
    "\n",
    "Composition is a powerful OOP concept that allows you to create complex objects by combining simpler objects. It is often used in conjunction with inheritance to create flexible and reusable code.\n",
    "\n",
    "Here is another example of composition in Python. The following code defines a Car class and a Engine class:"
   ]
  },
  {
   "cell_type": "code",
   "execution_count": 1,
   "id": "ce7791df",
   "metadata": {},
   "outputs": [],
   "source": [
    "class Car:\n",
    "    def __init__(self, make, model, year):\n",
    "        self.make = make\n",
    "        self.model = model\n",
    "        self.year = year\n",
    "\n",
    "        self.engine = Engine()\n",
    "\n",
    "    def drive(self):\n",
    "        self.engine.start()\n",
    "        print(\"The car is driving.\")\n",
    "\n",
    "    def stop(self):\n",
    "        self.engine.stop()\n",
    "        print(\"The car has stopped.\")\n",
    "\n",
    "class Engine:\n",
    "    def __init__(self):\n",
    "        self.running = False\n",
    "\n",
    "    def start(self):\n",
    "        self.running = True\n",
    "        print(\"The engine is started.\")\n",
    "\n",
    "    def stop(self):\n",
    "        self.running = False\n",
    "        print(\"The engine is stopped.\")"
   ]
  },
  {
   "cell_type": "markdown",
   "id": "c4a11170",
   "metadata": {},
   "source": [
    "The Car class is composed of the Engine class. This means that a Car object has an Engine object as a data member. The Car class can use the Engine object to start and stop the car's engine.\n",
    "\n",
    "In the following code, we create a Car object and then call its drive() and stop() methods:"
   ]
  },
  {
   "cell_type": "code",
   "execution_count": 2,
   "id": "0500a5f7",
   "metadata": {},
   "outputs": [],
   "source": [
    "car = Car(\"Toyota\", \"Corolla\", 2023)"
   ]
  },
  {
   "cell_type": "code",
   "execution_count": 3,
   "id": "2e2254d4",
   "metadata": {},
   "outputs": [
    {
     "name": "stdout",
     "output_type": "stream",
     "text": [
      "The engine is started.\n",
      "The car is driving.\n"
     ]
    }
   ],
   "source": [
    "car.drive()"
   ]
  },
  {
   "cell_type": "code",
   "execution_count": 4,
   "id": "98d5cadd",
   "metadata": {},
   "outputs": [
    {
     "name": "stdout",
     "output_type": "stream",
     "text": [
      "The engine is stopped.\n",
      "The car has stopped.\n"
     ]
    }
   ],
   "source": [
    "car.stop()"
   ]
  },
  {
   "cell_type": "markdown",
   "id": "a27a2a35",
   "metadata": {},
   "source": [
    "<b>Q4. What are bound methods and how do we use them?</b>"
   ]
  },
  {
   "cell_type": "markdown",
   "id": "491d6bcb",
   "metadata": {},
   "source": [
    "\n",
    "A bound method is a method that has an associated object. In Python, all methods defined in a class are bound methods by default. This means that when you call a method on an object, the method is automatically bound to the object.  \n",
    "Bound methods are useful because they allow us to access the object's properties and methods without having to explicitly pass the object as an argument. This makes our code more concise and easier to read.\n",
    "For example, the following code defines a Person class with a get_age() method:"
   ]
  },
  {
   "cell_type": "code",
   "execution_count": 5,
   "id": "464896da",
   "metadata": {},
   "outputs": [],
   "source": [
    "class Person:\n",
    "    def __init__(self, name, age):\n",
    "        self.name = name\n",
    "        self.age = age\n",
    "\n",
    "    def get_age(self):\n",
    "        return self.age"
   ]
  },
  {
   "cell_type": "markdown",
   "id": "38ecf7b3",
   "metadata": {},
   "source": [
    "The get_age() method is a bound method because it has an associated object, which is the self parameter. The get_age() method needs to access the object's age property, so it is a bound method.\n",
    "\n",
    "When we create a Person object and call the get_age() method, the method is automatically bound to the object:"
   ]
  },
  {
   "cell_type": "code",
   "execution_count": 6,
   "id": "73d760dd",
   "metadata": {},
   "outputs": [
    {
     "name": "stdout",
     "output_type": "stream",
     "text": [
      "30\n"
     ]
    }
   ],
   "source": [
    "person = Person(\"John Doe\", 30)\n",
    "\n",
    "age = person.get_age()\n",
    "\n",
    "print(age)"
   ]
  },
  {
   "cell_type": "markdown",
   "id": "6cc153e2",
   "metadata": {},
   "source": [
    "In this example, the get_age() method is able to access the object's age property because it is a bound method."
   ]
  },
  {
   "cell_type": "markdown",
   "id": "5e8f2892",
   "metadata": {},
   "source": [
    "<b>Q5. What is the purpose of pseudo private attributes?</b>"
   ]
  },
  {
   "cell_type": "markdown",
   "id": "54a67a54",
   "metadata": {},
   "source": [
    "In Python, there is no such thing as a truly private attribute. However, you can use the convention of prefixing an attribute name with an underscore (_) to indicate that the attribute is intended to be private. This is called a pseudo private attribute.\n",
    "\n",
    "The underscore prefix does not prevent other code from accessing the attribute, but it does make it clear that the attribute is not intended to be accessed by other code. This can help to prevent accidental corruption of the attribute's data.\n",
    "\n",
    "For example, the following code defines a Person class with a _name attribute:"
   ]
  },
  {
   "cell_type": "code",
   "execution_count": 7,
   "id": "0e68e422",
   "metadata": {},
   "outputs": [],
   "source": [
    "class Person:\n",
    "    def __init__(self, name):\n",
    "        self._name = name"
   ]
  },
  {
   "cell_type": "markdown",
   "id": "6a11711f",
   "metadata": {},
   "source": [
    "The _name attribute is a pseudo private attribute because it is prefixed with an underscore. This indicates that the attribute is intended to be private and should not be accessed by other code.\n",
    "\n",
    "However, other code can still access the _name attribute if it wants to. For example:"
   ]
  },
  {
   "cell_type": "code",
   "execution_count": 8,
   "id": "5528e7e1",
   "metadata": {},
   "outputs": [
    {
     "name": "stdout",
     "output_type": "stream",
     "text": [
      "John Doe\n"
     ]
    }
   ],
   "source": [
    "person = Person(\"John Doe\")\n",
    "\n",
    "print(person._name)"
   ]
  },
  {
   "cell_type": "markdown",
   "id": "fa4659b2",
   "metadata": {},
   "source": [
    "In this example, we are accessing the _name attribute directly. This is not recommended, but it is possible.\n",
    "\n",
    "The main purpose of pseudo private attributes is to provide a convention that helps to prevent accidental corruption of an attribute's data. If you want to make sure that an attribute is not accessible by other code, you can use the private keyword. However, this is not supported by all versions of Python.\n",
    "\n",
    "Here are some of the benefits of using pseudo private attributes:\n",
    "\n",
    "- They can help to prevent accidental corruption of an attribute's data.  \n",
    "- They can make your code more readable and maintainable.  \n",
    "- They can be used to implement a form of encapsulation.  \n",
    "Here are some of the drawbacks of using pseudo private attributes:\n",
    "\n",
    "- They are not truly private, so other code can still access them if they want to.  \n",
    "- They can be confusing to new programmers who are not familiar with the convention.  \n",
    "Overall, pseudo private attributes can be a useful tool for preventing accidental corruption of an attribute's data. However, it is important to be aware of their limitations."
   ]
  }
 ],
 "metadata": {
  "kernelspec": {
   "display_name": "Python 3 (ipykernel)",
   "language": "python",
   "name": "python3"
  },
  "language_info": {
   "codemirror_mode": {
    "name": "ipython",
    "version": 3
   },
   "file_extension": ".py",
   "mimetype": "text/x-python",
   "name": "python",
   "nbconvert_exporter": "python",
   "pygments_lexer": "ipython3",
   "version": "3.10.9"
  }
 },
 "nbformat": 4,
 "nbformat_minor": 5
}
