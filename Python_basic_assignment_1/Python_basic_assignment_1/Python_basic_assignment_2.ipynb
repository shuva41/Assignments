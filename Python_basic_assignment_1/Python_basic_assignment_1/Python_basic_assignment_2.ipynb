{
 "cells": [
  {
   "cell_type": "markdown",
   "id": "db6d2013",
   "metadata": {},
   "source": [
    "<b>1. What are the two values of the Boolean data type? How do you write them?</b>"
   ]
  },
  {
   "cell_type": "markdown",
   "id": "f75ab663",
   "metadata": {},
   "source": [
    "The two values of boolean datatypes are <b>True</b> and <b>False</b>"
   ]
  },
  {
   "cell_type": "code",
   "execution_count": 1,
   "id": "29e63c6e",
   "metadata": {},
   "outputs": [
    {
     "data": {
      "text/plain": [
       "True"
      ]
     },
     "execution_count": 1,
     "metadata": {},
     "output_type": "execute_result"
    }
   ],
   "source": [
    "True"
   ]
  },
  {
   "cell_type": "code",
   "execution_count": 2,
   "id": "305d91cc",
   "metadata": {},
   "outputs": [
    {
     "data": {
      "text/plain": [
       "False"
      ]
     },
     "execution_count": 2,
     "metadata": {},
     "output_type": "execute_result"
    }
   ],
   "source": [
    "False"
   ]
  },
  {
   "cell_type": "markdown",
   "id": "c90bc7bb",
   "metadata": {},
   "source": [
    "<b>2. What are the three different types of Boolean operators?</b>"
   ]
  },
  {
   "cell_type": "markdown",
   "id": "48a42b16",
   "metadata": {},
   "source": [
    "The different Boolean operators are:\n",
    "\n",
    "1. <b>and</b> : Returns True if both operands are True.\n",
    "2. <b>or</b> : Returns True if at least one operand is True.\n",
    "3. <b>not</b> : Reverses the truth value of an operand."
   ]
  },
  {
   "cell_type": "markdown",
   "id": "213eafd2",
   "metadata": {},
   "source": [
    "Here are the truth tables for each Boolean operator in Python:\n",
    "\n",
    "<b>AND Operator</b>\n",
    "|A|B|A and B\n",
    "|--|--|--\n",
    "|True|True|True\n",
    "|True|False|False\n",
    "|False|True|False\n",
    "|False|False|False\n",
    "\n",
    "<b>OR Operator</b>\n",
    "|A\t|B\t|A or B|\n",
    "|--|--|--|\n",
    "|True\t|True\t|True\n",
    "|True\t|False\t|True\n",
    "|False\t|True\t|True\n",
    "|False\t|False\t|False\n",
    "\n",
    "<b>NOT Operator</b>\n",
    "|A\t|not A\n",
    "|--|--|\n",
    "|True\t|False\n",
    "|False\t|True"
   ]
  },
  {
   "cell_type": "markdown",
   "id": "4610d51d",
   "metadata": {},
   "source": [
    "<b>4. What are the values of the following expressions?</b>"
   ]
  },
  {
   "cell_type": "code",
   "execution_count": 3,
   "id": "fef0613e",
   "metadata": {},
   "outputs": [
    {
     "data": {
      "text/plain": [
       "False"
      ]
     },
     "execution_count": 3,
     "metadata": {},
     "output_type": "execute_result"
    }
   ],
   "source": [
    "(5 > 4) and (3 == 5)"
   ]
  },
  {
   "cell_type": "code",
   "execution_count": 4,
   "id": "3672b4a7",
   "metadata": {},
   "outputs": [
    {
     "data": {
      "text/plain": [
       "False"
      ]
     },
     "execution_count": 4,
     "metadata": {},
     "output_type": "execute_result"
    }
   ],
   "source": [
    "not (5 > 4)"
   ]
  },
  {
   "cell_type": "code",
   "execution_count": 5,
   "id": "6ebd9e8f",
   "metadata": {},
   "outputs": [
    {
     "data": {
      "text/plain": [
       "True"
      ]
     },
     "execution_count": 5,
     "metadata": {},
     "output_type": "execute_result"
    }
   ],
   "source": [
    "(5 > 4) or (3 == 5)"
   ]
  },
  {
   "cell_type": "code",
   "execution_count": 6,
   "id": "a66ca64c",
   "metadata": {},
   "outputs": [
    {
     "data": {
      "text/plain": [
       "False"
      ]
     },
     "execution_count": 6,
     "metadata": {},
     "output_type": "execute_result"
    }
   ],
   "source": [
    "not ((5 > 4) or (3 == 5))"
   ]
  },
  {
   "cell_type": "code",
   "execution_count": 7,
   "id": "4beb32bb",
   "metadata": {},
   "outputs": [
    {
     "data": {
      "text/plain": [
       "False"
      ]
     },
     "execution_count": 7,
     "metadata": {},
     "output_type": "execute_result"
    }
   ],
   "source": [
    "(True and True) and (True == False)"
   ]
  },
  {
   "cell_type": "code",
   "execution_count": 8,
   "id": "c85c7dfb",
   "metadata": {},
   "outputs": [
    {
     "data": {
      "text/plain": [
       "True"
      ]
     },
     "execution_count": 8,
     "metadata": {},
     "output_type": "execute_result"
    }
   ],
   "source": [
    "(not False) or (not True)"
   ]
  },
  {
   "cell_type": "markdown",
   "id": "cc012757",
   "metadata": {},
   "source": [
    "<b>5. What are the six comparison operators?</b>"
   ]
  },
  {
   "cell_type": "markdown",
   "id": "bc70d6f6",
   "metadata": {},
   "source": [
    "In Python, there are six comparison operators used to compare values. These operators evaluate expressions and return a Boolean value (True or False) based on the comparison result. Here are the six comparison operators in Python:\n",
    "\n",
    "1. <b>Equal to (==)</b>: Checks if the values of two operands are equal.  \n",
    "\n",
    "2. <b>Not equal to (!=)</b>: Checks if the values of two operands are not equal.  \n",
    "\n",
    "3. <b>Greater than (>)</b>: Checks if the value of the left operand is greater than the value of the right operand.  \n",
    " \n",
    "4. <b>Less than </b>: Checks if the value of the left operand is less than the value of the right operand.\n",
    "\n",
    "5. <b>Greater than or equal to (>=)</b>: Checks if the value of the left operand is greater than or equal to the value of the right operand.\n",
    "\n",
    "6. <b>Less than or equal to </b>: Checks if the value of the left operand is less than or equal to the value of the right operand."
   ]
  },
  {
   "cell_type": "markdown",
   "id": "64c4ac0e",
   "metadata": {},
   "source": [
    "<b>6. How do you tell the difference between the equal to and assignment operators?Describe a condition and when you would use one.</b>"
   ]
  },
  {
   "cell_type": "markdown",
   "id": "83e1f1c4",
   "metadata": {},
   "source": [
    "Equal opearator is written with two equals: '=='  \n",
    "Assignment operator is written with one equal: '='  "
   ]
  },
  {
   "cell_type": "code",
   "execution_count": 9,
   "id": "8bec63ad",
   "metadata": {},
   "outputs": [
    {
     "name": "stdout",
     "output_type": "stream",
     "text": [
      "a is equal to b\n"
     ]
    }
   ],
   "source": [
    "# Assignment of values\n",
    "a = 2\n",
    "b = a\n",
    "\n",
    "# Condition chaecking\n",
    "if a == b:          \n",
    "    print(\"a is equal to b\")"
   ]
  },
  {
   "cell_type": "markdown",
   "id": "ea4a8210",
   "metadata": {},
   "source": [
    "<b>7. Identify the three blocks in this code:</b>"
   ]
  },
  {
   "cell_type": "code",
   "execution_count": 10,
   "id": "f90ef179",
   "metadata": {},
   "outputs": [
    {
     "name": "stdout",
     "output_type": "stream",
     "text": [
      "ham\n",
      "spam\n",
      "spam\n"
     ]
    }
   ],
   "source": [
    "spam = 0\n",
    "\n",
    "if spam == 10:\n",
    "    # Bloc 1\n",
    "    print('eggs')\n",
    "if spam > 5:\n",
    "    # Bloc 2\n",
    "    print('bacon')\n",
    "else:\n",
    "    # Bloc 3\n",
    "    print('ham')\n",
    "    print('spam')\n",
    "    print('spam')"
   ]
  },
  {
   "cell_type": "markdown",
   "id": "6c5868ee",
   "metadata": {},
   "source": [
    "<b>8. Write code that prints Hello if 1 is stored in spam, prints Howdy if 2 is stored in spam, and prints Greetings! if anything else is stored in spam.</b>"
   ]
  },
  {
   "cell_type": "code",
   "execution_count": 12,
   "id": "798fd8ca",
   "metadata": {},
   "outputs": [
    {
     "name": "stdout",
     "output_type": "stream",
     "text": [
      "Enter your Choice: 3\n",
      "Greetings!\n"
     ]
    }
   ],
   "source": [
    "spam =int(input(\"Enter your Choice: \"))\n",
    "\n",
    "if spam == 1:\n",
    "    print(\"Hello\")\n",
    "elif spam == 2:\n",
    "    print(\"Howdy\")\n",
    "else:\n",
    "    print(\"Greetings!\")"
   ]
  },
  {
   "cell_type": "markdown",
   "id": "45eb7719",
   "metadata": {},
   "source": [
    "<b>9. If your programme is stuck in an endless loop, what keys you’ll press?</b>"
   ]
  },
  {
   "cell_type": "markdown",
   "id": "6f1ad069",
   "metadata": {},
   "source": [
    "Ctrl + C"
   ]
  },
  {
   "cell_type": "markdown",
   "id": "e6c515de",
   "metadata": {},
   "source": [
    "<b>10. How can you tell the difference between break and continue?</b>"
   ]
  },
  {
   "cell_type": "markdown",
   "id": "6fb01051",
   "metadata": {},
   "source": [
    "The break and continue statements are both used to control the flow of a loop in Python. However, they have different effects.\n",
    "\n",
    "The break statement immediately terminates the loop, regardless of whether the loop condition is still True. For example, the following code will print the numbers from 1 to 5, but it will only print the first two numbers because the break statement will terminate the loop after the second iteration:"
   ]
  },
  {
   "cell_type": "code",
   "execution_count": 14,
   "id": "73ee63d4",
   "metadata": {},
   "outputs": [
    {
     "name": "stdout",
     "output_type": "stream",
     "text": [
      "0\n",
      "1\n"
     ]
    }
   ],
   "source": [
    "for i in range(0, 6):\n",
    "    if i == 2:\n",
    "        break\n",
    "    print(i)"
   ]
  },
  {
   "cell_type": "markdown",
   "id": "7f777a82",
   "metadata": {},
   "source": [
    "The continue statement, on the other hand, skips the current iteration of the loop and continues with the next iteration. For example, the following code will print the numbers from 1 to 5, but it will skip the number 3:"
   ]
  },
  {
   "cell_type": "code",
   "execution_count": 15,
   "id": "65162e09",
   "metadata": {},
   "outputs": [
    {
     "name": "stdout",
     "output_type": "stream",
     "text": [
      "1\n",
      "2\n",
      "4\n",
      "5\n"
     ]
    }
   ],
   "source": [
    "for i in range(1, 6):\n",
    "    if i == 3:\n",
    "        continue\n",
    "    print(i)"
   ]
  },
  {
   "cell_type": "markdown",
   "id": "c41c1784",
   "metadata": {},
   "source": [
    "<b>11. In a for loop, what is the difference between range(10), range(0, 10), and range(0, 10, 1)?</b>"
   ]
  },
  {
   "cell_type": "markdown",
   "id": "64e8dfb5",
   "metadata": {},
   "source": [
    "<b>range(10)</b>:\n",
    "1. This will generate a sequence of numbers from 0 to 9 (inclusive).\n",
    "2. The start argument is omitted, and by default, it starts from 0.\n",
    "3. The stop argument is set to 10, but the actual range will only go up to 9 (10 is exclusive)."
   ]
  },
  {
   "cell_type": "code",
   "execution_count": 16,
   "id": "c6d0ec17",
   "metadata": {},
   "outputs": [
    {
     "name": "stdout",
     "output_type": "stream",
     "text": [
      "0\n",
      "1\n",
      "2\n",
      "3\n",
      "4\n",
      "5\n",
      "6\n",
      "7\n",
      "8\n",
      "9\n"
     ]
    }
   ],
   "source": [
    "for i in range(10):\n",
    "    print(i)"
   ]
  },
  {
   "cell_type": "markdown",
   "id": "5446a15b",
   "metadata": {},
   "source": [
    "<b>range(0, 10)</b>:\n",
    "1. This will generate a sequence of numbers from 0 to 9 (inclusive).\n",
    "2. The start argument is explicitly set to 0.\n",
    "3. The stop argument is set to 10, but the actual range will only go up to 9 (10 is exclusive)."
   ]
  },
  {
   "cell_type": "code",
   "execution_count": 17,
   "id": "ef6e2e31",
   "metadata": {},
   "outputs": [
    {
     "name": "stdout",
     "output_type": "stream",
     "text": [
      "0\n",
      "1\n",
      "2\n",
      "3\n",
      "4\n",
      "5\n",
      "6\n",
      "7\n",
      "8\n",
      "9\n"
     ]
    }
   ],
   "source": [
    "for i in range(0,10):\n",
    "    print(i)"
   ]
  },
  {
   "cell_type": "markdown",
   "id": "ac756d6c",
   "metadata": {},
   "source": [
    "<b>range(0, 10, 1)</b>:\n",
    "1. This will generate a sequence of numbers from 0 to 9 (inclusive) with a step of 1.\n",
    "2. The start argument is explicitly set to 0.\n",
    "3. The stop argument is set to 10, but the actual range will only go up to 9 (10 is exclusive).\n",
    "4. The step argument is set to 1, meaning it will increment by 1 in each iteration."
   ]
  },
  {
   "cell_type": "code",
   "execution_count": 18,
   "id": "694840ae",
   "metadata": {},
   "outputs": [
    {
     "name": "stdout",
     "output_type": "stream",
     "text": [
      "0\n",
      "1\n",
      "2\n",
      "3\n",
      "4\n",
      "5\n",
      "6\n",
      "7\n",
      "8\n",
      "9\n"
     ]
    }
   ],
   "source": [
    "for i in range(0,10,1):\n",
    "    print(i)"
   ]
  },
  {
   "cell_type": "markdown",
   "id": "aa29ed51",
   "metadata": {},
   "source": [
    "All three expressions will produce the same output in a for loop, generating numbers from 0 to 9 (inclusive). The differences lie in how the range() function is called, but their behavior is essentially the same when used in a for loop."
   ]
  },
  {
   "cell_type": "markdown",
   "id": "c08f3b77",
   "metadata": {},
   "source": [
    "<b>12. Write a short program that prints the numbers 1 to 10 using a for loop. Then write an equivalent program that prints the numbers 1 to 10 using a while loop.</b>"
   ]
  },
  {
   "cell_type": "code",
   "execution_count": 20,
   "id": "791b700c",
   "metadata": {},
   "outputs": [
    {
     "name": "stdout",
     "output_type": "stream",
     "text": [
      "1\n",
      "2\n",
      "3\n",
      "4\n",
      "5\n",
      "6\n",
      "7\n",
      "8\n",
      "9\n",
      "10\n"
     ]
    }
   ],
   "source": [
    "for i in range(1,11):\n",
    "    print(i)"
   ]
  },
  {
   "cell_type": "code",
   "execution_count": 21,
   "id": "3f696d3b",
   "metadata": {
    "scrolled": true
   },
   "outputs": [
    {
     "name": "stdout",
     "output_type": "stream",
     "text": [
      "1\n",
      "2\n",
      "3\n",
      "4\n",
      "5\n",
      "6\n",
      "7\n",
      "8\n",
      "9\n",
      "10\n"
     ]
    }
   ],
   "source": [
    "i = 1\n",
    "while(i<=10):\n",
    "    print(i)\n",
    "    i+=1"
   ]
  },
  {
   "cell_type": "markdown",
   "id": "ae589ed1",
   "metadata": {},
   "source": [
    "<b>13. If you had a function named bacon() inside a module named spam, how would you call it after importing spam?</b>"
   ]
  },
  {
   "cell_type": "markdown",
   "id": "c8f5b43b",
   "metadata": {},
   "source": [
    "```python\n",
    "import spam\n",
    "spam.bacon()\n",
    "```"
   ]
  }
 ],
 "metadata": {
  "kernelspec": {
   "display_name": "Python 3 (ipykernel)",
   "language": "python",
   "name": "python3"
  },
  "language_info": {
   "codemirror_mode": {
    "name": "ipython",
    "version": 3
   },
   "file_extension": ".py",
   "mimetype": "text/x-python",
   "name": "python",
   "nbconvert_exporter": "python",
   "pygments_lexer": "ipython3",
   "version": "3.10.9"
  }
 },
 "nbformat": 4,
 "nbformat_minor": 5
}
