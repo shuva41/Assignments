{
  "nbformat": 4,
  "nbformat_minor": 0,
  "metadata": {
    "colab": {
      "provenance": []
    },
    "kernelspec": {
      "name": "python3",
      "display_name": "Python 3"
    },
    "language_info": {
      "name": "python"
    }
  },
  "cells": [
    {
      "cell_type": "markdown",
      "source": [
        "1. Add the current date to the text file today.txt as a string."
      ],
      "metadata": {
        "id": "oBIPeBnibgtL"
      }
    },
    {
      "cell_type": "code",
      "source": [
        "from datetime import date\n",
        "\n",
        "# Get today's date\n",
        "today = date.today()\n",
        "\n",
        "# Format the date as a string (YYYY-MM-DD or any other desired format)\n",
        "formatted_date = today.strftime(\"%Y-%m-%d\")\n",
        "\n",
        "# Open the file in append mode ('a') to add content without overwriting\n",
        "with open(\"today.txt\", \"a\") as file:\n",
        "  # Write the formatted date string followed by a newline character\n",
        "  file.write(f\"{formatted_date}\\n\")\n",
        "\n",
        "print(f\"Added date: {formatted_date} to today.txt\")\n"
      ],
      "metadata": {
        "colab": {
          "base_uri": "https://localhost:8080/"
        },
        "id": "A2VY1Se5czBD",
        "outputId": "5e075646-9d9d-41b5-b2fe-c3252c853770"
      },
      "execution_count": 1,
      "outputs": [
        {
          "output_type": "stream",
          "name": "stdout",
          "text": [
            "Added date: 2024-06-06 to today.txt\n"
          ]
        }
      ]
    },
    {
      "cell_type": "markdown",
      "source": [
        "2. Read the text file today.txt into the string today_string"
      ],
      "metadata": {
        "id": "6yVy8te8bgnx"
      }
    },
    {
      "cell_type": "code",
      "source": [
        "# Open the file in read mode ('r')\n",
        "with open(\"today.txt\", \"r\") as file:\n",
        "  # Read the entire content of the file into a string\n",
        "  today_string = file.read()\n",
        "\n",
        "print(f\"Content of today.txt:\\n{today_string}\")\n"
      ],
      "metadata": {
        "colab": {
          "base_uri": "https://localhost:8080/"
        },
        "id": "L8te1gh3dPI3",
        "outputId": "546a3b5b-f579-4f91-d291-20cd8179043e"
      },
      "execution_count": 2,
      "outputs": [
        {
          "output_type": "stream",
          "name": "stdout",
          "text": [
            "Content of today.txt:\n",
            "2024-06-06\n",
            "\n"
          ]
        }
      ]
    },
    {
      "cell_type": "markdown",
      "source": [
        "3. Parse the date from today_string."
      ],
      "metadata": {
        "id": "bpgQXjUYbgim"
      }
    },
    {
      "cell_type": "code",
      "source": [
        "from datetime import datetime\n",
        "\n",
        "# Assuming a specific date format in today.txt (YYYY-MM-DD)\n",
        "date_format = \"%Y-%m-%d\"\n",
        "\n",
        "try:\n",
        "  today_string = today_string.strip()\n",
        "  # Parse the date string from today_string\n",
        "  parsed_date = datetime.strptime(today_string, date_format)\n",
        "  print(f\"Parsed date: {parsed_date.date()}\")\n",
        "except ValueError:\n",
        "  print(\"Date parsing failed. Check the date format in today.txt or 'date_format' variable.\")\n"
      ],
      "metadata": {
        "colab": {
          "base_uri": "https://localhost:8080/"
        },
        "id": "ScvEHN3ndXh9",
        "outputId": "fe6fc213-2e7e-4692-a2b0-fde7298424f6"
      },
      "execution_count": 9,
      "outputs": [
        {
          "output_type": "stream",
          "name": "stdout",
          "text": [
            "Parsed date: 2024-06-06\n"
          ]
        }
      ]
    },
    {
      "cell_type": "markdown",
      "source": [
        "4. List the files in your current directory"
      ],
      "metadata": {
        "id": "dWrENOn9bgdW"
      }
    },
    {
      "cell_type": "code",
      "source": [
        "import os\n",
        "\n",
        "# Get all files and directories in the current directory\n",
        "all_entries = os.listdir()\n",
        "\n",
        "# Filter the list to only include files (not directories)\n",
        "files = [f for f in all_entries if os.path.isfile(os.path.join(os.getcwd(), f))]\n",
        "\n",
        "# Print the list of files\n",
        "print(\"Files in current directory:\")\n",
        "for file in files:\n",
        "  print(file)\n"
      ],
      "metadata": {
        "colab": {
          "base_uri": "https://localhost:8080/"
        },
        "id": "ngzfpIJNgfFr",
        "outputId": "fb7faf54-6cd3-4b45-8c5c-4c51bcc51985"
      },
      "execution_count": 10,
      "outputs": [
        {
          "output_type": "stream",
          "name": "stdout",
          "text": [
            "Files in current directory:\n",
            "today.txt\n"
          ]
        }
      ]
    },
    {
      "cell_type": "markdown",
      "source": [
        "5. Create a list of all of the files in your parent directory (minimum five files should be available)."
      ],
      "metadata": {
        "id": "mWvcCeUxbgSk"
      }
    },
    {
      "cell_type": "code",
      "source": [
        "import os\n",
        "\n",
        "try:\n",
        "  # Get the parent directory path\n",
        "  parent_dir = os.path.dirname(os.getcwd())\n",
        "\n",
        "  # Get a list of entries in the parent directory\n",
        "  all_entries = os.listdir(parent_dir)\n",
        "\n",
        "  # Filter for files (handle potential exceptions)\n",
        "  files = []\n",
        "  for entry in all_entries:\n",
        "    try:\n",
        "      if os.path.isfile(os.path.join(parent_dir, entry)):\n",
        "        files.append(entry)\n",
        "    except PermissionError:\n",
        "      print(f\"Error accessing '{entry}': Permission denied.\")\n",
        "    except FileNotFoundError:\n",
        "      print(f\"Error accessing '{entry}': File not found.\")\n",
        "\n",
        "  # Ensure at least five files are found (optional)\n",
        "  if len(files) < 5:\n",
        "    print(f\"Warning: Less than five files found in the parent directory. You might need to adjust directory permissions or the script's location.\")\n",
        "\n",
        "  # Print the list of files\n",
        "  if files:\n",
        "    print(\"Files in parent directory:\")\n",
        "    for file in files:\n",
        "      print(file)\n",
        "  else:\n",
        "    print(\"No files found in the parent directory.\")\n",
        "\n",
        "except FileNotFoundError:\n",
        "  print(\"Error: Parent directory not found. Check your current working directory.\")\n",
        "except PermissionError:\n",
        "  print(\"Error: Permission denied to access the parent directory. You might need to adjust permissions.\")\n"
      ],
      "metadata": {
        "colab": {
          "base_uri": "https://localhost:8080/"
        },
        "id": "nffcu86dh787",
        "outputId": "b18ed099-cfa9-4d3f-9914-3d4e5773352c"
      },
      "execution_count": 11,
      "outputs": [
        {
          "output_type": "stream",
          "name": "stdout",
          "text": [
            "Warning: Less than five files found in the parent directory. You might need to adjust directory permissions or the script's location.\n",
            "Files in parent directory:\n",
            ".dockerenv\n",
            "NGC-DL-CONTAINER-LICENSE\n",
            "cuda-keyring_1.0-1_all.deb\n"
          ]
        }
      ]
    },
    {
      "cell_type": "markdown",
      "source": [
        "6. Use multiprocessing to create three separate processes. Make each one wait a random number of seconds between one and five, print the current time, and then exit."
      ],
      "metadata": {
        "id": "ECMyG_AebgPw"
      }
    },
    {
      "cell_type": "code",
      "source": [
        "import multiprocessing\n",
        "import random\n",
        "from datetime import datetime\n",
        "\n",
        "def wait_and_print():\n",
        "  \"\"\"Waits a random amount of time, prints the current time, and exits.\"\"\"\n",
        "  # Generate random wait time between 1 and 5 seconds\n",
        "  wait_time = random.uniform(1, 5)\n",
        "  print(f\"Process {multiprocessing.current_process().name}: Waiting for {wait_time:.2f} seconds...\")\n",
        "  # Simulate waiting using time.sleep() (replace with actual work in a real application)\n",
        "  import time\n",
        "  time.sleep(wait_time)\n",
        "  print(f\"Process {multiprocessing.current_process().name}: Current time: {datetime.now()}\")\n",
        "\n",
        "if __name__ == '__main__':\n",
        "  # Create three processes\n",
        "  processes = [multiprocessing.Process(target=wait_and_print) for _ in range(3)]\n",
        "\n",
        "  # Start all processes\n",
        "  for process in processes:\n",
        "    process.start()\n",
        "\n",
        "  # Wait for all processes to finish\n",
        "  for process in processes:\n",
        "    process.join()\n",
        "\n",
        "  print(\"All processes finished!\")\n"
      ],
      "metadata": {
        "colab": {
          "base_uri": "https://localhost:8080/"
        },
        "id": "Nx2UQQD_ibU3",
        "outputId": "b2b41c7c-aa05-4509-edb9-30894ba21129"
      },
      "execution_count": 12,
      "outputs": [
        {
          "output_type": "stream",
          "name": "stdout",
          "text": [
            "Process Process-1: Waiting for 1.11 seconds...\n",
            "Process Process-2: Waiting for 2.78 seconds...Process Process-3: Waiting for 4.24 seconds...\n",
            "\n",
            "Process Process-1: Current time: 2024-06-06 17:12:38.146119\n",
            "Process Process-2: Current time: 2024-06-06 17:12:39.838948\n",
            "Process Process-3: Current time: 2024-06-06 17:12:41.294060\n",
            "All processes finished!\n"
          ]
        }
      ]
    },
    {
      "cell_type": "markdown",
      "source": [
        "7. Create a date object of your day of birth."
      ],
      "metadata": {
        "id": "2OzsTVZobgMl"
      }
    },
    {
      "cell_type": "code",
      "source": [
        "from datetime import date\n",
        "\n",
        "# Create a date object for your day of birth (March 20, 1991)\n",
        "birth_date = date(year=1989, month=6, day=6)\n",
        "\n",
        "# Print the date object\n",
        "print(birth_date)\n"
      ],
      "metadata": {
        "colab": {
          "base_uri": "https://localhost:8080/"
        },
        "id": "94dVcyQAipYc",
        "outputId": "f0b2d3f7-10b7-4a65-845a-0dfd40717464"
      },
      "execution_count": 13,
      "outputs": [
        {
          "output_type": "stream",
          "name": "stdout",
          "text": [
            "1989-06-06\n"
          ]
        }
      ]
    },
    {
      "cell_type": "markdown",
      "source": [
        "8. What day of the week was your day of birth?"
      ],
      "metadata": {
        "id": "-mwWWtm9bgJL"
      }
    },
    {
      "cell_type": "code",
      "source": [
        "# Method 1: Using weekday() (0=Monday, 6=Sunday)\n",
        "week_day_number = birth_date.weekday()\n",
        "\n",
        "# Convert weekday number to a human-readable format (optional)\n",
        "week_days = [\"Monday\", \"Tuesday\", \"Wednesday\", \"Thursday\", \"Friday\", \"Saturday\", \"Sunday\"]\n",
        "week_day_name = week_days[week_day_number]\n",
        "\n",
        "# Print the results\n",
        "print(f\"Week day number (0-6): {week_day_number}\")\n",
        "print(f\"Week day name: {week_day_name}\")\n",
        "\n",
        "# Method 2: Using isoweekday() (1=Monday, 7=Sunday)\n",
        "iso_week_day_number = birth_date.isoweekday()\n",
        "print(f\"ISO week day number (1-7): {iso_week_day_number}\")"
      ],
      "metadata": {
        "colab": {
          "base_uri": "https://localhost:8080/"
        },
        "id": "vp0chLXVjHuE",
        "outputId": "4fe1d2c5-7afd-45ac-f628-29da93fc3bfd"
      },
      "execution_count": 14,
      "outputs": [
        {
          "output_type": "stream",
          "name": "stdout",
          "text": [
            "Week day number (0-6): 1\n",
            "Week day name: Tuesday\n",
            "ISO week day number (1-7): 2\n"
          ]
        }
      ]
    },
    {
      "cell_type": "markdown",
      "source": [
        "9. When will you be (or when were you) 10,000 days old?"
      ],
      "metadata": {
        "id": "W8MKThOQbgFM"
      }
    },
    {
      "cell_type": "code",
      "execution_count": 17,
      "metadata": {
        "colab": {
          "base_uri": "https://localhost:8080/"
        },
        "id": "VpYM7TCobVny",
        "outputId": "03253cb5-ddd3-4472-cedf-766517b34c33"
      },
      "outputs": [
        {
          "output_type": "stream",
          "name": "stdout",
          "text": [
            "I would reach 10,000 days old on 2016-10-22 \n"
          ]
        }
      ],
      "source": [
        "from datetime import timedelta\n",
        "creation_date = date(year=1989, month=6, day=6)\n",
        "target_days = 10000\n",
        "\n",
        "date_of_ten_thousand_day = creation_date + timedelta(days=10000)\n",
        "\n",
        "print(f\"I would reach 10,000 days old on {date_of_ten_thousand_day} \")\n"
      ]
    }
  ]
}