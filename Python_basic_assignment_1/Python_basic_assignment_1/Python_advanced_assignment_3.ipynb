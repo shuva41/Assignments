{
 "cells": [
  {
   "cell_type": "markdown",
   "id": "0eb5030b",
   "metadata": {},
   "source": [
    "<b>1. What is the concept of an abstract superclass?</b>"
   ]
  },
  {
   "cell_type": "markdown",
   "id": "7cf83666",
   "metadata": {},
   "source": [
    "An abstract superclass in Python is a class that cannot be instantiated and serves as a blueprint for other classes.  \n",
    "It defines a set of methods that must be implemented in any child classes that are built on top of it.\n",
    "Key points about abstract superclasses in Python include:\n",
    "1. An abstract class contains one or more abstract methods, which are methods that have a declaration but do not have an implementation.  \n",
    "2. Abstract classes are used to define how other classes should look like, specifying the methods and properties they are expected to have.  \n",
    "3. Abstract methods and properties defined in an abstract class need to be implemented in a child class in order to create objects from it.  \n",
    "4. Python does not provide abstract classes by default, but it comes with a module called ABC (Abstract Base Classes) that allows for the creation of abstract classes.  \n",
    "5. The ABC module works by decorating methods of the base class as abstract and then registering concrete classes as implementations of the abstract base.  \n",
    "6. Abstract methods are decorated with the @abstractmethod keyword.   \n",
    "\n",
    "Here is an example of defining an abstract class in Python using the ABC module:"
   ]
  },
  {
   "cell_type": "code",
   "execution_count": 1,
   "id": "e60b02f8",
   "metadata": {},
   "outputs": [],
   "source": [
    "from abc import ABCMeta, abstractmethod\n",
    "\n",
    "class Animal(metaclass=ABCMeta):\n",
    "    @abstractmethod\n",
    "    def speak(self):\n",
    "        pass\n",
    "\n",
    "    @abstractmethod\n",
    "    def eat(self):\n",
    "        pass"
   ]
  },
  {
   "cell_type": "markdown",
   "id": "815691be",
   "metadata": {},
   "source": [
    "The Animal class declares two abstract methods: speak() and eat(). Any subclass of Animal must implement these methods in order to be instantiated.\n",
    "\n",
    "The following code defines a subclass of Animal called Dog:"
   ]
  },
  {
   "cell_type": "code",
   "execution_count": 2,
   "id": "832952f3",
   "metadata": {},
   "outputs": [],
   "source": [
    "class Dog(Animal):\n",
    "    def speak(self):\n",
    "        print(\"Woof!\")\n",
    "\n",
    "    def eat(self):\n",
    "        print(\"I'm eating a bone!\")"
   ]
  },
  {
   "cell_type": "markdown",
   "id": "7b333338",
   "metadata": {},
   "source": [
    "The Dog class implements the speak() and eat() methods, so it can be instantiated.\n",
    "\n",
    "The following code attempts to instantiate an Animal object:"
   ]
  },
  {
   "cell_type": "code",
   "execution_count": 3,
   "id": "86097da9",
   "metadata": {},
   "outputs": [
    {
     "ename": "TypeError",
     "evalue": "Can't instantiate abstract class Animal with abstract methods eat, speak",
     "output_type": "error",
     "traceback": [
      "\u001b[1;31m---------------------------------------------------------------------------\u001b[0m",
      "\u001b[1;31mTypeError\u001b[0m                                 Traceback (most recent call last)",
      "Cell \u001b[1;32mIn[3], line 1\u001b[0m\n\u001b[1;32m----> 1\u001b[0m animal \u001b[38;5;241m=\u001b[39m \u001b[43mAnimal\u001b[49m\u001b[43m(\u001b[49m\u001b[43m)\u001b[49m\n",
      "\u001b[1;31mTypeError\u001b[0m: Can't instantiate abstract class Animal with abstract methods eat, speak"
     ]
    }
   ],
   "source": [
    "animal = Animal()"
   ]
  },
  {
   "cell_type": "code",
   "execution_count": 4,
   "id": "55999a4c",
   "metadata": {},
   "outputs": [
    {
     "name": "stdout",
     "output_type": "stream",
     "text": [
      "Woof!\n",
      "I'm eating a bone!\n"
     ]
    }
   ],
   "source": [
    "dog = Dog()\n",
    "\n",
    "dog.speak()\n",
    "# Output: Woof!\n",
    "\n",
    "dog.eat()\n",
    "# Output: I'm eating a bone!"
   ]
  },
  {
   "cell_type": "markdown",
   "id": "8cf36ce8",
   "metadata": {},
   "source": [
    "Abstract superclasses are useful in object-oriented programming for creating a common interface or behavior that can be shared among multiple classes. They provide a way to enforce certain methods to be implemented in child classes, ensuring consistency and structure in the codebase."
   ]
  },
  {
   "cell_type": "markdown",
   "id": "674e1e20",
   "metadata": {},
   "source": [
    "<b>2. What happens when a class statement's top level contains a basic assignment statement?</b>"
   ]
  },
  {
   "cell_type": "markdown",
   "id": "94c1dff1",
   "metadata": {},
   "source": [
    "When a class statement's top level contains a basic assignment statement in Python, the assignment statement is executed as soon as the class is defined. The assignment statement is treated as a top-level statement, which means it is executed in the same way as if it was outside of the class definition. This can be useful for defining class-level variables that are shared among all instances of the class.  \n",
    "It's important to note that the assignment statement does not create an instance variable, but rather a class-level variable.\n",
    "This means that the variable is shared among all instances of the class and can be accessed using the class name. If the same variable is defined in an instance method, it will create an instance variable that is specific to that instance.  \n",
    "Here is an example of defining a class with a basic assignment statement:"
   ]
  },
  {
   "cell_type": "code",
   "execution_count": 5,
   "id": "e7f801f1",
   "metadata": {},
   "outputs": [],
   "source": [
    "class MyClass:\n",
    "    x = 0  # This is a class-level variable\n",
    "\n",
    "    def __init__(self):\n",
    "        self.y = 0  # This is an instance variable\n",
    "\n",
    "    def my_method(self):\n",
    "        z = 0  # This is a local variable"
   ]
  },
  {
   "cell_type": "code",
   "execution_count": 9,
   "id": "a6a4c911",
   "metadata": {
    "scrolled": true
   },
   "outputs": [
    {
     "data": {
      "text/plain": [
       "0"
      ]
     },
     "execution_count": 9,
     "metadata": {},
     "output_type": "execute_result"
    }
   ],
   "source": [
    "class_1 = MyClass()\n",
    "class_1.x"
   ]
  },
  {
   "cell_type": "code",
   "execution_count": 10,
   "id": "45bedb10",
   "metadata": {
    "scrolled": true
   },
   "outputs": [
    {
     "data": {
      "text/plain": [
       "0"
      ]
     },
     "execution_count": 10,
     "metadata": {},
     "output_type": "execute_result"
    }
   ],
   "source": [
    "class_1.y"
   ]
  },
  {
   "cell_type": "markdown",
   "id": "8077205e",
   "metadata": {},
   "source": [
    "In this example, x is a class-level variable that is shared among all instances of MyClass. y is an instance variable that is specific to each instance of MyClass. z is a local variable that is specific to the my_method method.  \n",
    "Overall, when a class statement's top level contains a basic assignment statement, it is executed as a top-level statement and creates a class-level variable that is shared among all instances of the class."
   ]
  },
  {
   "cell_type": "markdown",
   "id": "cf8dd0de",
   "metadata": {},
   "source": [
    "<b>3. Why does a class need to manually call a superclass's __init__ method?</b>"
   ]
  },
  {
   "cell_type": "markdown",
   "id": "d8808310",
   "metadata": {},
   "source": [
    "In Python, when a class inherits from a parent class, it is not mandatory to call the parent class's __init__ method inside the child class's \\__init__ method. However, it is often necessary to call the parent class's \\__init__ method to properly initialize the object. If the child class does not call the parent class's \\__init__ method, the parent class's attributes and methods will not be inherited by the child class. To call the parent class's \\__init__ method from the child class's \\__init__ method, the child class can use the syntax super().__init__(). This syntax allows the child class to access the parent class's properties and methods without explicitly naming the parent class. The super() function can also be used to access parent class attributes.\n",
    "In summary, while it is not mandatory to call the parent class's \\__init__ method inside the child class's \\__init__ method, it is often necessary to properly initialize the object and inherit the parent class's attributes and methods. The super() function can be used to call the parent class's \\__init__ method and access parent class attributes."
   ]
  },
  {
   "cell_type": "markdown",
   "id": "b3ac5a45",
   "metadata": {},
   "source": [
    "<b>4. How can you augment, instead of completely replacing, an inherited method?</b>"
   ]
  },
  {
   "cell_type": "markdown",
   "id": "26aa90d3",
   "metadata": {},
   "source": [
    "To augment, instead of completely replacing, an inherited method in Python, you can use method overriding. Method overriding allows the child class to change the implementation of a method that is defined in its parent class while still retaining the original functionality of the parent class method. Here's how you can do it:  \n",
    "1. Create a subclass that inherits from the parent class. This allows you to access the inherited method.  \n",
    "2. Define a method with the same name in the child class that you want to override.  \n",
    "3. Implement the desired changes or additional functionality in the child class method.  \n",
    "5. If you still want to retain the functionality of the parent class method, you can call the parent class method within the overridden method using the super() function.  \n",
    "Here's an example to illustrate method overriding:"
   ]
  },
  {
   "cell_type": "code",
   "execution_count": 1,
   "id": "3bad889b",
   "metadata": {},
   "outputs": [
    {
     "name": "stdout",
     "output_type": "stream",
     "text": [
      "Hello, I am the parent class\n",
      "Hello, I am the child class\n"
     ]
    }
   ],
   "source": [
    "class Animal:\n",
    "    def walk(self):\n",
    "        print('Hello, I am the parent class')\n",
    "\n",
    "class Dog(Animal):\n",
    "    def walk(self):\n",
    "        super().walk()  # Calling the parent class method\n",
    "        print('Hello, I am the child class')\n",
    "\n",
    "dog = Dog()\n",
    "dog.walk()"
   ]
  },
  {
   "cell_type": "markdown",
   "id": "db25f0ce",
   "metadata": {},
   "source": [
    "<b>5. How is the local scope of a class different from that of a function?</b>"
   ]
  },
  {
   "cell_type": "markdown",
   "id": "1214748b",
   "metadata": {},
   "source": [
    "In Python, the local scope of a class is different from that of a function. When a class is defined, a new local variable scope is created inside the class body. Variables defined inside the class body, but outside any class method, are called class variables and belong to the class scope. These variables can be accessed by any method of the class.\n",
    "On the other hand, when a variable is defined inside a function, it belongs to the local scope of that function and can only be accessed inside that function. This means that variables defined inside a method of a class belong to the local scope of that method and cannot be accessed outside that method.\n",
    "Following is an example of the same:"
   ]
  }
 ],
 "metadata": {
  "kernelspec": {
   "display_name": "Python 3 (ipykernel)",
   "language": "python",
   "name": "python3"
  },
  "language_info": {
   "codemirror_mode": {
    "name": "ipython",
    "version": 3
   },
   "file_extension": ".py",
   "mimetype": "text/x-python",
   "name": "python",
   "nbconvert_exporter": "python",
   "pygments_lexer": "ipython3",
   "version": "3.10.9"
  }
 },
 "nbformat": 4,
 "nbformat_minor": 5
}
