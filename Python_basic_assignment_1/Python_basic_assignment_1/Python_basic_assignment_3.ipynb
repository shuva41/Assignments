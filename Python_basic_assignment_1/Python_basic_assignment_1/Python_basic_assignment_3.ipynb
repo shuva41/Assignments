{
 "cells": [
  {
   "cell_type": "markdown",
   "id": "c41c700e",
   "metadata": {},
   "source": [
    "####  Why are functions advantageous to have in your programs?"
   ]
  },
  {
   "cell_type": "markdown",
   "id": "9ec72574",
   "metadata": {},
   "source": [
    "1. Reducing duplication of code:  \n",
    "    A function is a block of code which performs a particular task. So when we need to perform a particular task, we can write   the code to perform that specific task ina function and then call the function as many times as required inside the program to perform the task.\n",
    "\n",
    "2. Improved reusability of code:  \n",
    "    Using functions keeps the code more readable, and easier to maintain (in case it is required to make any changes, it can be done easily without getting many errors).\n",
    "\n",
    "3. Complex problems are broken down into smaller problems:  \n",
    "    For example, when we are creating a single program to represent a calculator, then we can create seperate functions to perform addition, substraction, multiplication, division and other mathematical operations. This brings clarity to the overall logic of the program.\n",
    "4. Information hiding:   \n",
    "    Since scope of a variable declared inside a function is limited inside the function, we can use functions to hide sensitive data and operations performed on them."
   ]
  },
  {
   "cell_type": "markdown",
   "id": "70f6b9f4",
   "metadata": {},
   "source": [
    "#### When does the code in a function run: when it's specified or when it's called?  "
   ]
  },
  {
   "cell_type": "markdown",
   "id": "df7b69f3",
   "metadata": {},
   "source": [
    " Code in a functions run when we call the function."
   ]
  },
  {
   "cell_type": "markdown",
   "id": "09f83d1f",
   "metadata": {},
   "source": [
    "#### What statement creates a function?"
   ]
  },
  {
   "cell_type": "markdown",
   "id": "0056a296",
   "metadata": {},
   "source": [
    "In Python, you define a function with the def keyword, then write the function identifier (name) followed by parentheses and a colon."
   ]
  },
  {
   "cell_type": "code",
   "execution_count": 1,
   "id": "14078211",
   "metadata": {},
   "outputs": [
    {
     "name": "stdout",
     "output_type": "stream",
     "text": [
      "102\n"
     ]
    }
   ],
   "source": [
    "# Function Definition\n",
    "def sumOperation(a,b):\n",
    "    # Task to be performed by the function\n",
    "    c = a + b\n",
    "    return c\n",
    "\n",
    "# Function Call\n",
    "sum = sumOperation(24,78)\n",
    "print(sum)"
   ]
  },
  {
   "cell_type": "markdown",
   "id": "05b09dce",
   "metadata": {},
   "source": [
    "#### What is the difference between a function and a function call?"
   ]
  },
  {
   "cell_type": "markdown",
   "id": "0a3c14ae",
   "metadata": {},
   "source": [
    "A function is a piece of code which enhanced the reusability and modularity of your program. It means that piece of code need not be written again. A function call means invoking or calling that function. Unless a function is called there is no use of that function.\n",
    "\n",
    "As an analogy, we can say:\n",
    "1. Defining a function is a lot like building a house - you give it a name, you state how to use it (the house has doors etc) and you say clearly in computer code what the function does (similar to defining the layout of the house - which rooms exist, what connects to what).\n",
    "2. Calling a function is a lot like living in a house - you are actually making use of the function, passing the data it needs, executing the code inside the function and using the values it generates - this is similar to making use of a house that is already built."
   ]
  },
  {
   "cell_type": "markdown",
   "id": "656c6c3e",
   "metadata": {},
   "source": [
    "#### How many global scopes are there in a Python program? How many local scopes?"
   ]
  },
  {
   "cell_type": "markdown",
   "id": "0efef07e",
   "metadata": {},
   "source": [
    "1. Python has only one global scope per execution.\n",
    "2. Python has as many local scopes as there are function calls or lambda expressions ina program "
   ]
  },
  {
   "cell_type": "markdown",
   "id": "c3b4224a",
   "metadata": {},
   "source": [
    "#### What happens to variables in a local scope when the function call returns?"
   ]
  },
  {
   "cell_type": "markdown",
   "id": "b23c38b1",
   "metadata": {},
   "source": [
    "When the function calls are returned, then the reference to all variables in the local scope is removed from the stack memory and the variable objects are removed from the heap."
   ]
  },
  {
   "cell_type": "markdown",
   "id": "b12f0a73",
   "metadata": {},
   "source": [
    "#### What is the concept of a return value? Is it possible to have a return value in an expression?"
   ]
  },
  {
   "cell_type": "markdown",
   "id": "2c889d66",
   "metadata": {},
   "source": [
    "A return statement is used to end the execution of the function call and “returns” the result (value of the expression following the return keyword) to the caller. The statements after the return statements are not executed.\n",
    "\n",
    "Yes it is possible to have a return value in an expression."
   ]
  },
  {
   "cell_type": "markdown",
   "id": "3ea7ffd6",
   "metadata": {},
   "source": [
    "#### If a function does not have a return statement, what is the return value of a call to that function?"
   ]
  },
  {
   "cell_type": "markdown",
   "id": "a082409a",
   "metadata": {},
   "source": [
    "The return value would be None of a call to that function."
   ]
  },
  {
   "cell_type": "markdown",
   "id": "bfcd8537",
   "metadata": {},
   "source": [
    "#### How do you make a function variable refer to the global variable?"
   ]
  },
  {
   "cell_type": "markdown",
   "id": "aa07138f",
   "metadata": {},
   "source": [
    "To create a global variable inside a function, you can use the global keyword."
   ]
  },
  {
   "cell_type": "code",
   "execution_count": 3,
   "id": "588aa404",
   "metadata": {},
   "outputs": [
    {
     "name": "stdout",
     "output_type": "stream",
     "text": [
      "Python is awesome\n"
     ]
    }
   ],
   "source": [
    "x = \"awesome\"\n",
    "\n",
    "def myfunc():\n",
    "  global x\n",
    "  print(\"Python is \" + x)\n",
    "\n",
    "myfunc()\n",
    "\n"
   ]
  },
  {
   "cell_type": "markdown",
   "id": "f0395ac0",
   "metadata": {},
   "source": [
    "####  What is the data type of None?"
   ]
  },
  {
   "cell_type": "code",
   "execution_count": 4,
   "id": "4f2fcbaa",
   "metadata": {},
   "outputs": [
    {
     "data": {
      "text/plain": [
       "NoneType"
      ]
     },
     "execution_count": 4,
     "metadata": {},
     "output_type": "execute_result"
    }
   ],
   "source": [
    "type(None)"
   ]
  },
  {
   "cell_type": "markdown",
   "id": "f9c7de96",
   "metadata": {},
   "source": [
    "#### What does the sentence import areallyourpetsnamederic do?"
   ]
  },
  {
   "cell_type": "markdown",
   "id": "be4348a4",
   "metadata": {},
   "source": [
    "That import statement imports a module named areallyourpetsnamederic."
   ]
  },
  {
   "cell_type": "markdown",
   "id": "20bfb491",
   "metadata": {},
   "source": [
    " #### If you had a bacon() feature in a spam module, what would you call it after importing spam?"
   ]
  },
  {
   "cell_type": "markdown",
   "id": "ecd8f3a5",
   "metadata": {},
   "source": [
    "We will call it spam.bacon()"
   ]
  },
  {
   "cell_type": "markdown",
   "id": "6c10f1b1",
   "metadata": {},
   "source": [
    "#### What can you do to save a programme from crashing if it encounters an error?"
   ]
  },
  {
   "cell_type": "markdown",
   "id": "9f224d75",
   "metadata": {},
   "source": [
    "We can put the block of code that generates the error inside a try clause, so that the program will not stop the execution, even when error is generated"
   ]
  },
  {
   "cell_type": "markdown",
   "id": "516d3e1e",
   "metadata": {},
   "source": [
    "#### What is the purpose of the try clause? What is the purpose of the except clause?"
   ]
  },
  {
   "cell_type": "markdown",
   "id": "b96caad7",
   "metadata": {},
   "source": [
    "1. try Clause:  \n",
    "    The try block is used to check some code for errors i.e the code inside the try block will execute when there is no error in the program.\n",
    "\n",
    "2. except Clause:  \n",
    "    Whereas the code inside the except block will execute whenever the program encounters some error in the preceding try block."
   ]
  }
 ],
 "metadata": {
  "kernelspec": {
   "display_name": "Python 3 (ipykernel)",
   "language": "python",
   "name": "python3"
  },
  "language_info": {
   "codemirror_mode": {
    "name": "ipython",
    "version": 3
   },
   "file_extension": ".py",
   "mimetype": "text/x-python",
   "name": "python",
   "nbconvert_exporter": "python",
   "pygments_lexer": "ipython3",
   "version": "3.10.9"
  }
 },
 "nbformat": 4,
 "nbformat_minor": 5
}
