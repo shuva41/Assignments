{
 "cells": [
  {
   "cell_type": "markdown",
   "id": "8b49110f",
   "metadata": {},
   "source": [
    "####  In the below elements which of them are values or an expression? eg:- values can be integer or string and expressions will be mathematical operators."
   ]
  },
  {
   "cell_type": "code",
   "execution_count": null,
   "id": "b59f7eeb",
   "metadata": {},
   "outputs": [],
   "source": [
    "* -- Multiplication Operator is an expression.\n",
    "'hello' --- A string, hence, it is a value.\n",
    "-87.8 --- It is a float value. Hence this is a value.\n",
    "- -- Substraction Operator, it is an expression.\n",
    "/ -- Division Operator, it is an expression.\n",
    "+ -- Addition Operator, it is an expression.\n",
    "6 -- An integer, hence, this is a value."
   ]
  },
  {
   "cell_type": "markdown",
   "id": "9c89fcac",
   "metadata": {},
   "source": [
    "#### What is the difference between string and variable?"
   ]
  },
  {
   "cell_type": "code",
   "execution_count": null,
   "id": "8311363a",
   "metadata": {},
   "outputs": [],
   "source": [
    "Variables are symbols that you can use to store data in a program. This symbol points to the memory location, where,\n",
    "some value is stored. Variables can be thought of as an empty box that would be filled with some data or value. \n",
    "\n",
    "Strings are the data, which can be used to fill up a variable. Declaring strings as variables can make it easier \n",
    "for coders to work with strings throughout Python programs."
   ]
  },
  {
   "cell_type": "markdown",
   "id": "39724cbe",
   "metadata": {},
   "source": [
    "#### Describe three different data types."
   ]
  },
  {
   "cell_type": "code",
   "execution_count": null,
   "id": "cef54a8e",
   "metadata": {},
   "outputs": [],
   "source": [
    "int --> These represent integer numbers in the range -2147483648 through 2147483647. \n",
    "(The range may be larger on machines with a larger natural word size, but not smaller.) \n",
    "When the result of an operation would fall outside this range, the result is normally returned as a long integer \n",
    "(in some cases, the exception OverflowError is raised instead). \n",
    "\n",
    "float --> Float values in Python are represented as 64-bit double-precision values. It contains fractional values or \n",
    "values in decimal points. 1.8 x 10308 is the maximum value for any floating-point number. If the value inputted exceeds this max value, \n",
    "the Python program will return an error.\n",
    "\n",
    "string --> String variables -- which are also called alphanumeric variables or character variables -- have values \n",
    "that are treated as text. This means that the values of string variables may include numbers, letters, or symbols. \n",
    "In the Data View window, missing string values will appear as blank cells. A string can be compared to a necklace of \n",
    "pearls, where each character individually reperesents a bead of pearl. "
   ]
  },
  {
   "cell_type": "markdown",
   "id": "aee24daf",
   "metadata": {},
   "source": [
    "#### What is an expression made up of? What do all expressions do?"
   ]
  },
  {
   "cell_type": "code",
   "execution_count": null,
   "id": "7e8e95fb",
   "metadata": {},
   "outputs": [],
   "source": [
    "An expression is a combination of values, variables, operators, and calls to functions. \n",
    "Python expressions only contain identifiers, literals, and operators.\n",
    "\n",
    "Identifiers: Any name that is used to define a class, function, variable module, or object is an identifier.\n",
    "\n",
    "Literals: These are language-independent terms in Python and should exist independently in any programming language. \n",
    "In Python, there are the string literals, byte literals, integer literals, floating point literals, and imaginary \n",
    "literals.    \n",
    "\n",
    "Operators: In Python an operator implements logical or mathematical operations using the corresponding tokens.\n",
    "    \n",
    "Expressions are needed to be evaluated.A combination of operands and operators is called an expression. \n",
    "The expression in Python produces some value or result after being interpreted by the Python interpreter.  "
   ]
  },
  {
   "cell_type": "markdown",
   "id": "0902c588",
   "metadata": {},
   "source": [
    "#### This assignment statements, like spam = 10. What is the difference between an expression and a statement?"
   ]
  },
  {
   "cell_type": "code",
   "execution_count": null,
   "id": "c2d5e7ca",
   "metadata": {},
   "outputs": [],
   "source": [
    "Expressions only contain identifiers, literals and operators, where operators include arithmetic and \n",
    "boolean operators, the function call operator () the subscription operator [] and similar, and can be reduced \n",
    "to some kind of \"value\", which can be any Python object.\n",
    "\n",
    "Statements, on the other hand, are everything that can make up a line (or several lines) of Python code. \n",
    "\n",
    "Expressions are statements as well."
   ]
  },
  {
   "cell_type": "markdown",
   "id": "81c91c45",
   "metadata": {},
   "source": [
    "#### After running the following code, what does the variable bacon contain?\n",
    "#### bacon = 22\n",
    "#### bacon + 1"
   ]
  },
  {
   "cell_type": "code",
   "execution_count": 1,
   "id": "ec5ab6df",
   "metadata": {},
   "outputs": [
    {
     "data": {
      "text/plain": [
       "22"
      ]
     },
     "execution_count": 1,
     "metadata": {},
     "output_type": "execute_result"
    }
   ],
   "source": [
    "# It contains 22, as the value of the mathematical expression is not assigned to bacon or any other variable.\n",
    "bacon = 22\n",
    "bacon + 1\n",
    "bacon"
   ]
  },
  {
   "cell_type": "markdown",
   "id": "1721082f",
   "metadata": {},
   "source": [
    "#### What should the values of the following two terms be?\n",
    "#### 'spam' + 'spamspam'\n",
    "#### 'spam' * 3"
   ]
  },
  {
   "cell_type": "code",
   "execution_count": 2,
   "id": "b7b5c9f7",
   "metadata": {},
   "outputs": [
    {
     "data": {
      "text/plain": [
       "'spamspamspam'"
      ]
     },
     "execution_count": 2,
     "metadata": {},
     "output_type": "execute_result"
    }
   ],
   "source": [
    "'spam'+'spamspam'"
   ]
  },
  {
   "cell_type": "code",
   "execution_count": 3,
   "id": "82451926",
   "metadata": {},
   "outputs": [
    {
     "data": {
      "text/plain": [
       "'spamspamspam'"
      ]
     },
     "execution_count": 3,
     "metadata": {},
     "output_type": "execute_result"
    }
   ],
   "source": [
    "'spam'*3"
   ]
  },
  {
   "cell_type": "markdown",
   "id": "7c014ef3",
   "metadata": {},
   "source": [
    "#### Why is eggs a valid variable name while 100 is invalid?"
   ]
  },
  {
   "cell_type": "code",
   "execution_count": null,
   "id": "c97b5aaf",
   "metadata": {},
   "outputs": [],
   "source": [
    "--> A variable name must start with a letter or the underscore character.\n",
    "--> A variable name cannot start with a number.\n",
    "--> A variable name can only contain alpha-numeric characters and underscores (A-z, 0-9, and _ )\n",
    "\n",
    "According to above naming convention, 'eggs' is a valid variable name, but, 100 is not."
   ]
  },
  {
   "cell_type": "markdown",
   "id": "8d6f4ac2",
   "metadata": {},
   "source": [
    "#### What three functions can be used to get the integer, floating-point number, or string version of a value?"
   ]
  },
  {
   "cell_type": "code",
   "execution_count": null,
   "id": "e92843c6",
   "metadata": {},
   "outputs": [],
   "source": [
    "int() ---> Is used to convert any suitable string or float value into an integer.\n",
    "float() --> Is used to convert any suitable string or integer value into a float.\n",
    "str() --> Is used to convert any suitable value into an string."
   ]
  },
  {
   "cell_type": "code",
   "execution_count": 4,
   "id": "1a74c757",
   "metadata": {},
   "outputs": [
    {
     "data": {
      "text/plain": [
       "int"
      ]
     },
     "execution_count": 4,
     "metadata": {},
     "output_type": "execute_result"
    }
   ],
   "source": [
    "type(int('10'))"
   ]
  },
  {
   "cell_type": "code",
   "execution_count": 5,
   "id": "b08f09c9",
   "metadata": {},
   "outputs": [
    {
     "data": {
      "text/plain": [
       "float"
      ]
     },
     "execution_count": 5,
     "metadata": {},
     "output_type": "execute_result"
    }
   ],
   "source": [
    "type(float('233.44'))"
   ]
  },
  {
   "cell_type": "code",
   "execution_count": 6,
   "id": "8e89c229",
   "metadata": {},
   "outputs": [
    {
     "data": {
      "text/plain": [
       "str"
      ]
     },
     "execution_count": 6,
     "metadata": {},
     "output_type": "execute_result"
    }
   ],
   "source": [
    "type(str(10))"
   ]
  },
  {
   "cell_type": "markdown",
   "id": "9b6407a2",
   "metadata": {},
   "source": [
    "#### Why does this expression cause an error? How can you fix it?\n",
    "#### 'I have eaten ' + 99 + ' burritos.'"
   ]
  },
  {
   "cell_type": "code",
   "execution_count": null,
   "id": "42e95a56",
   "metadata": {},
   "outputs": [],
   "source": [
    "'+' ---> acts as concatenation in case of string.\n",
    "'+'---> Acts as addition operation in case of integer.\n",
    "A string cannot be concatenated with an integer, hence it will generate a TypeError"
   ]
  },
  {
   "cell_type": "code",
   "execution_count": 7,
   "id": "b593983f",
   "metadata": {},
   "outputs": [
    {
     "ename": "TypeError",
     "evalue": "can only concatenate str (not \"int\") to str",
     "output_type": "error",
     "traceback": [
      "\u001b[0;31m---------------------------------------------------------------------------\u001b[0m",
      "\u001b[0;31mTypeError\u001b[0m                                 Traceback (most recent call last)",
      "Cell \u001b[0;32mIn[7], line 1\u001b[0m\n\u001b[0;32m----> 1\u001b[0m \u001b[38;5;124;43m'\u001b[39;49m\u001b[38;5;124;43mI have eaten \u001b[39;49m\u001b[38;5;124;43m'\u001b[39;49m\u001b[43m \u001b[49m\u001b[38;5;241;43m+\u001b[39;49m\u001b[43m \u001b[49m\u001b[38;5;241;43m99\u001b[39;49m \u001b[38;5;241m+\u001b[39m \u001b[38;5;124m'\u001b[39m\u001b[38;5;124m burritos.\u001b[39m\u001b[38;5;124m'\u001b[39m\n",
      "\u001b[0;31mTypeError\u001b[0m: can only concatenate str (not \"int\") to str"
     ]
    }
   ],
   "source": [
    "'I have eaten ' + 99 + ' burritos.'"
   ]
  }
 ],
 "metadata": {
  "kernelspec": {
   "display_name": "Python 3 (ipykernel)",
   "language": "python",
   "name": "python3"
  },
  "language_info": {
   "codemirror_mode": {
    "name": "ipython",
    "version": 3
   },
   "file_extension": ".py",
   "mimetype": "text/x-python",
   "name": "python",
   "nbconvert_exporter": "python",
   "pygments_lexer": "ipython3",
   "version": "3.10.9"
  }
 },
 "nbformat": 4,
 "nbformat_minor": 5
}
